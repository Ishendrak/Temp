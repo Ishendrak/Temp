{
 "cells": [
  {
   "cell_type": "markdown",
   "id": "35097106-9848-4032-942e-dbb228fc8c44",
   "metadata": {},
   "source": [
    "# My Jupyter Notebook on IBM Watson Studio"
   ]
  },
  {
   "cell_type": "markdown",
   "id": "60950bb8-83d9-4943-a4ab-eac32bc0e224",
   "metadata": {},
   "source": [
    "### **Ishendra**<br>\n",
    "Data Scientist "
   ]
  },
  {
   "cell_type": "markdown",
   "id": "32cea315-1795-4436-8154-a45fd266f74a",
   "metadata": {},
   "source": [
    "*I am interested in data science because it provides a wonderful tool to understand economic decision making by individuals which happen to be my interest area.*"
   ]
  },
  {
   "cell_type": "markdown",
   "id": "f3f69d35-3dfb-417c-8290-9cafaf007530",
   "metadata": {},
   "source": [
    "### Calculate sum of n natutal numbers ###"
   ]
  },
  {
   "cell_type": "code",
   "execution_count": 6,
   "id": "716039e7-df19-41fa-9c31-5462477f2b89",
   "metadata": {},
   "outputs": [
    {
     "name": "stdout",
     "output_type": "stream",
     "text": [
      "The sum of  10  natural numbers is :  55.0\n"
     ]
    }
   ],
   "source": [
    "def sum(n):\n",
    "    return (n*(n+1))/2\n",
    "n=10\n",
    "print(\"The sum of \",n,\" natural numbers is : \", sum(n))"
   ]
  },
  {
   "cell_type": "markdown",
   "id": "356bddd8-f042-443f-a0f2-e7222f4071e6",
   "metadata": {},
   "source": [
    "Through the above example, we have learnt\n",
    "* How to create markdown cells.\n",
    "* How to create code cells\n",
    "In code cells, we have learnt to \n",
    "1. Create a simple customized function\n",
    "1. Use an in-built function\n",
    "> Happy Learning"
   ]
  },
  {
   "cell_type": "code",
   "execution_count": null,
   "id": "d17b85fb-6985-4c6b-9789-ba5e31af6d45",
   "metadata": {},
   "outputs": [],
   "source": []
  }
 ],
 "metadata": {
  "kernelspec": {
   "display_name": "Python",
   "language": "python",
   "name": "conda-env-python-py"
  },
  "language_info": {
   "codemirror_mode": {
    "name": "ipython",
    "version": 3
   },
   "file_extension": ".py",
   "mimetype": "text/x-python",
   "name": "python",
   "nbconvert_exporter": "python",
   "pygments_lexer": "ipython3",
   "version": "3.7.12"
  }
 },
 "nbformat": 4,
 "nbformat_minor": 5
}
